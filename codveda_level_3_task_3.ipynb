{
 "cells": [
  {
   "cell_type": "code",
   "execution_count": 8,
   "metadata": {},
   "outputs": [],
   "source": [
    "import re\n",
    "from collections import Counter"
   ]
  },
  {
   "cell_type": "code",
   "execution_count": 9,
   "metadata": {},
   "outputs": [],
   "source": [
    "# function to tokenise words\n",
    "def words(document):\n",
    "    \"Convert text to lower case and tokenise the document\"\n",
    "    return re.findall(r'\\w+', document.lower())"
   ]
  },
  {
   "cell_type": "code",
   "execution_count": 12,
   "metadata": {},
   "outputs": [],
   "source": [
    "# create a frequency table of all the words of the document\n",
    "all_words = Counter(words(open('spell_corrector.py').read()))"
   ]
  },
  {
   "cell_type": "code",
   "execution_count": 13,
   "metadata": {},
   "outputs": [
    {
     "data": {
      "text/plain": [
       "0"
      ]
     },
     "execution_count": 13,
     "metadata": {},
     "output_type": "execute_result"
    }
   ],
   "source": [
    "# check frequency of a random word, say, 'chair'\n",
    "all_words['chair']"
   ]
  },
  {
   "cell_type": "code",
   "execution_count": 14,
   "metadata": {},
   "outputs": [
    {
     "data": {
      "text/plain": [
       "[('word', 24),\n",
       " ('right', 13),\n",
       " ('for', 12),\n",
       " ('in', 12),\n",
       " ('return', 8),\n",
       " ('of', 8),\n",
       " ('left', 8),\n",
       " ('def', 7),\n",
       " ('the', 7),\n",
       " ('words', 6)]"
      ]
     },
     "execution_count": 14,
     "metadata": {},
     "output_type": "execute_result"
    }
   ],
   "source": [
    "# look at top 10 frequent words\n",
    "all_words.most_common(10)"
   ]
  },
  {
   "cell_type": "code",
   "execution_count": 15,
   "metadata": {},
   "outputs": [],
   "source": [
    "def edits_one(word):\n",
    "    \"Create all edits that are one edit away from `word`.\"\n",
    "    alphabets    = 'abcdefghijklmnopqrstuvwxyz'\n",
    "    splits     = [(word[:i], word[i:])                   for i in range(len(word) + 1)]\n",
    "    deletes    = [left + right[1:]                       for left, right in splits if right]\n",
    "    inserts    = [left + c + right                       for left, right in splits for c in alphabets]\n",
    "    replaces   = [left + c + right[1:]                   for left, right in splits if right for c in alphabets]\n",
    "    transposes = [left + right[1] + right[0] + right[2:] for left, right in splits if len(right)>1]\n",
    "    return set(deletes + inserts + replaces + transposes)"
   ]
  },
  {
   "cell_type": "code",
   "execution_count": 16,
   "metadata": {},
   "outputs": [],
   "source": [
    "def edits_two(word):\n",
    "    \"Create all edits that are two edits away from `word`.\"\n",
    "    return (e2 for e1 in edits_one(word) for e2 in edits_one(e1))"
   ]
  },
  {
   "cell_type": "code",
   "execution_count": 17,
   "metadata": {},
   "outputs": [],
   "source": [
    "def known(words):\n",
    "    \"The subset of `words` that appear in the `all_words`.\"\n",
    "    return set(word for word in words if word in all_words)"
   ]
  },
  {
   "cell_type": "code",
   "execution_count": 18,
   "metadata": {},
   "outputs": [],
   "source": [
    "def possible_corrections(word):\n",
    "    \"Generate possible spelling corrections for word.\"\n",
    "    return (known([word]) or known(edits_one(word)) or known(edits_two(word)) or [word])"
   ]
  },
  {
   "cell_type": "code",
   "execution_count": 19,
   "metadata": {},
   "outputs": [],
   "source": [
    "def prob(word, N=sum(all_words.values())): \n",
    "    \"Probability of `word`: Number of appearances of 'word' / total number of tokens\"\n",
    "    return all_words[word] / N"
   ]
  },
  {
   "cell_type": "code",
   "execution_count": 20,
   "metadata": {},
   "outputs": [
    {
     "name": "stdout",
     "output_type": "stream",
     "text": [
      "336\n",
      "{'monnely', 'moxney', 'monneyx', 'moniney', 'mowney', 'mongney', 'mxonney', 'monnuy', 'ymonney', 'monnrey', 'moqney', 'fmonney', 'mozney', 'monnec', 'monneuy', 'monzey', 'monneh', 'monnzy', 'onney', 'monmney', 'mondney', 'mjonney', 'monnsy', 'mounney', 'monfney', 'monnwy', 'mynney', 'mhonney', 'money', 'monnev', 'monneny', 'modnney', 'monne', 'wonney', 'mqonney', 'oonney', 'monnhey', 'monnehy', 'monnxey', 'monnety', 'monneey', 'monneyk', 'moxnney', 'mojney', 'momney', 'mondey', 'mionney', 'monniy', 'monneym', 'monnet', 'monneu', 'monnly', 'monndey', 'mbonney', 'monneyq', 'monnney', 'molnney', 'qonney', 'amonney', 'moniey', 'montney', 'mponney', 'monkney', 'mgonney', 'monnaey', 'monneyb', 'msnney', 'mfnney', 'monneyf', 'moznney', 'monntey', 'ionney', 'eonney', 'mmonney', 'monnee', 'monnek', 'moneney', 'vonney', 'monnew', 'aonney', 'monley', 'monneya', 'manney', 'monnea', 'msonney', 'smonney', 'uonney', 'mxnney', 'mhnney', 'zmonney', 'monnen', 'monnfy', 'monnefy', 'monnsey', 'mtonney', 'mknney', 'lonney', 'minney', 'monnbey', 'mconney', 'moyney', 'myonney', 'moknney', 'mouney', 'monneoy', 'mlnney', 'monneyn', 'gonney', 'mosnney', 'mofney', 'munney', 'mmnney', 'mfonney', 'monnkey', 'monnemy', 'monnley', 'monpey', 'monneky', 'monneyv', 'monncy', 'monnmey', 'mopnney', 'monnqey', 'monnexy', 'monnvey', 'mongey', 'mkonney', 'mrnney', 'monneyy', 'wmonney', 'monnvy', 'emonney', 'mocnney', 'monbney', 'monneqy', 'monneys', 'monaey', 'meonney', 'monhney', 'monneyr', 'tmonney', 'monneye', 'monneyj', 'monnecy', 'monniey', 'mownney', 'monnex', 'dmonney', 'monnei', 'monnel', 'molney', 'moncney', 'monnqy', 'monneyt', 'monneg', 'mwnney', 'monneby', 'monnay', 'monnky', 'monnesy', 'mopney', 'monnery', 'mqnney', 'monpney', 'monner', 'pmonney', 'moinney', 'muonney', 'mornney', 'monnejy', 'jonney', 'monxey', 'umonney', 'monnyy', 'monsney', 'monmey', 'monnef', 'monnes', 'monlney', 'mocney', 'monneyl', 'monnepy', 'mbnney', 'mvnney', 'tonney', 'vmonney', 'moqnney', 'monnwey', 'moynney', 'monbey', 'bmonney', 'mogney', 'monvey', 'mzonney', 'monnoey', 'qmonney', 'xmonney', 'monnep', 'mnoney', 'monfey', 'monqey', 'momnney', 'mofnney', 'moneey', 'monnpy', 'mononey', 'monzney', 'monny', 'mnney', 'lmonney', 'mobney', 'monnny', 'monneyz', 'mnnney', 'mtnney', 'mznney', 'mjnney', 'moneny', 'monnfey', 'cmonney', 'sonney', 'mobnney', 'monnevy', 'monneo', 'xonney', 'monyey', 'monnjey', 'monnjy', 'monqney', 'monnedy', 'monneyh', 'monnezy', 'monnby', 'monoey', 'monnzey', 'mvonney', 'monuey', 'monnez', 'ronney', 'conney', 'moeney', 'fonney', 'monuney', 'mognney', 'monnye', 'monneyw', 'maonney', 'moaney', 'kmonney', 'mnonney', 'menney', 'monneyc', 'monnuey', 'konney', 'monjney', 'monwey', 'monkey', 'monneyd', 'modney', 'rmonney', 'monnry', 'motnney', 'jmonney', 'monneiy', 'montey', 'mohney', 'hmonney', 'monngey', 'monndy', 'monnewy', 'monnmy', 'monxney', 'mgnney', 'mpnney', 'monsey', 'nmonney', 'movney', 'monneay', 'mojnney', 'monngy', 'gmonney', 'moncey', 'yonney', 'monneyg', 'imonney', 'monnegy', 'monwney', 'moanney', 'monneyi', 'moonney', 'moiney', 'monnyey', 'donney', 'honney', 'bonney', 'mokney', 'mlonney', 'monnxy', 'monneb', 'mohnney', 'monnpey', 'morney', 'monyney', 'moenney', 'monnem', 'nonney', 'monaney', 'monneyp', 'mooney', 'ponney', 'monneyo', 'motney', 'monvney', 'movnney', 'mosney', 'monneq', 'mdnney', 'monjey', 'mronney', 'monneyu', 'monnej', 'zonney', 'monrey', 'monnhy', 'mdonney', 'monhey', 'monnoy', 'omnney', 'monncey', 'mwonney', 'monnty', 'monned', 'monrney', 'monney', 'omonney', 'mcnney'}\n"
     ]
    }
   ],
   "source": [
    "print(len(set(edits_one(\"monney\"))))\n",
    "print(edits_one(\"monney\"))"
   ]
  },
  {
   "cell_type": "code",
   "execution_count": 21,
   "metadata": {},
   "outputs": [
    {
     "name": "stdout",
     "output_type": "stream",
     "text": [
      "set()\n"
     ]
    }
   ],
   "source": [
    "print(known(edits_one(\"monney\")))"
   ]
  },
  {
   "cell_type": "code",
   "execution_count": 22,
   "metadata": {},
   "outputs": [
    {
     "name": "stdout",
     "output_type": "stream",
     "text": [
      "51013\n",
      "set()\n"
     ]
    }
   ],
   "source": [
    "# Let's look at words that are two edits away\n",
    "print(len(set(edits_two(\"monney\"))))\n",
    "print(known(edits_one(\"monney\")))"
   ]
  },
  {
   "cell_type": "code",
   "execution_count": 23,
   "metadata": {},
   "outputs": [
    {
     "name": "stdout",
     "output_type": "stream",
     "text": [
      "['monney']\n"
     ]
    }
   ],
   "source": [
    "# Let's look at possible corrections of a word\n",
    "print(possible_corrections(\"monney\"))"
   ]
  },
  {
   "cell_type": "code",
   "execution_count": 24,
   "metadata": {},
   "outputs": [
    {
     "name": "stdout",
     "output_type": "stream",
     "text": [
      "0.0\n",
      "0.0\n"
     ]
    }
   ],
   "source": [
    "# Let's look at probability of a word\n",
    "print(prob(\"money\"))\n",
    "print(prob(\"monkey\"))"
   ]
  },
  {
   "cell_type": "code",
   "execution_count": 25,
   "metadata": {},
   "outputs": [],
   "source": [
    "def spell_check(word):\n",
    "    \"Print the most probable spelling correction for `word` out of all the `possible_corrections`\"\n",
    "    correct_word = max(possible_corrections(word), key=prob)\n",
    "    if correct_word != word:\n",
    "        return \"Did you mean \" + correct_word + \"?\"\n",
    "    else:\n",
    "        return \"Correct spelling.\""
   ]
  },
  {
   "cell_type": "code",
   "execution_count": 26,
   "metadata": {},
   "outputs": [
    {
     "name": "stdout",
     "output_type": "stream",
     "text": [
      "Correct spelling.\n"
     ]
    }
   ],
   "source": [
    "# test spell check\n",
    "print(spell_check(\"monney\"))"
   ]
  }
 ],
 "metadata": {
  "kernelspec": {
   "display_name": "Python 3 (ipykernel)",
   "language": "python",
   "name": "python3"
  },
  "language_info": {
   "codemirror_mode": {
    "name": "ipython",
    "version": 3
   },
   "file_extension": ".py",
   "mimetype": "text/x-python",
   "name": "python",
   "nbconvert_exporter": "python",
   "pygments_lexer": "ipython3",
   "version": "3.12.7"
  }
 },
 "nbformat": 4,
 "nbformat_minor": 4
}
